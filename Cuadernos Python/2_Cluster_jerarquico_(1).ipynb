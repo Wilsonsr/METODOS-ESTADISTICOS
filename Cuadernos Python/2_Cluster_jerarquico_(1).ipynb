{
  "cells": [
    {
      "cell_type": "markdown",
      "metadata": {
        "cell_id": "a542a4d7c00d47c38b792a83a5c0c54a",
        "deepnote_cell_type": "markdown",
        "id": "M23b2w9n6bUo"
      },
      "source": [
        "\n",
        "<center>\n",
        "\n",
        "---\n",
        "# **Agrupamiento jerarquico**\n",
        "---\n",
        "\n",
        "</center>\n",
        "\n",
        "El agrupamiento jerarquico es un metodo descriptivo, cuyo objetivo es crear grupos de individuos buscando que se cumplan las siguientes condiciones:\n",
        "1. Son grupos muy homogeneos dentro de si.\n",
        "2. Son muy heteregeneos dentro de ellos.\n",
        "\n",
        "En el metodo jerarquico se realiza mediante los siguientes pasos:\n",
        "1.  Se calcula la matriz de distancia entre individuos\n",
        "2. Se agrupan los individuos que tengan la menor distancia entre ellos.\n",
        "3. Se repite el paso 1 y 2 hasta lograr tener a todos los individuos en 1 grupo.\n",
        "\n",
        "Para lograr este algoritmo se necesitan dos medidas importantes:\n",
        "1. Una medida de distancia entre individuos\n",
        "2. Una medida de distancia entre grupos de individuos"
      ]
    },
    {
      "cell_type": "markdown",
      "metadata": {
        "cell_id": "85b00b40659e48fbb0fb768d5ad3bfdf",
        "deepnote_cell_type": "markdown",
        "id": "vrsJJnC56bX9"
      },
      "source": [
        "# Distancias usadas entre individuos\n",
        "Sea $x=(x_1, \\ldots, x_p)$ y $y=(y_1, \\ldots, y_p)$ dos individuos con sus vectores de variables observadas (todas cuantitativas) se definen las siguientes distancias:\n",
        "1. Distancia [Euclidiana](https://es.wikipedia.org/wiki/Distancia_euclidiana):\n",
        "$$D(x,y)=\\sqrt{\\sum_{i=1}^p (x_i-y_i)^2}=\\sqrt{(x-y)^T(x-y)}$$\n",
        "2. Distancia de [Mahalanobis](https://es.wikipedia.org/wiki/Distancia_de_Mahalanobis)\n",
        " $$D(x,y)=\\sqrt{(x-y)^T\\Sigma^{-1}(x-y)}$$\n",
        "3. Distancia de [Manhattan](https://es.wikipedia.org/wiki/Geometr%C3%ADa_del_taxista)  \n",
        "$$D(x,y)=\\sum_{i=1}^p |x_i-y_i|$$\n",
        "\n",
        "4. Distancia de [Minkowski](https://es.qwe.wiki/wiki/Minkowski_distance)\n",
        "$$D(x,y)=\\left(\\sum_{i=1}^p |x_i-y_i|^p\\right)^{\\frac{1}{p}}$$"
      ]
    },
    {
      "cell_type": "markdown",
      "metadata": {
        "cell_id": "196b4b6716c7483896fe954c325125f9",
        "deepnote_cell_type": "markdown",
        "id": "vMA53PsXFhFd"
      },
      "source": [
        "# Medida de similaridad\n",
        "Sea $r$ y $s$ dos conjuntos (cluster) de $k$ y $l$ individuos, entonces las siguientes medidas de similaridad se definen entre los grupos (cluster):\n",
        "\n",
        "1. Enlace simple:\n",
        "$$D_{rs}=min\\{D(X_r, Y_s)\\}$$\n",
        "2. Enlace completo:\n",
        "$$D_{rs}=max\\{D(X_r, Y_s)\\}$$\n",
        "3. Enlace promedio:\n",
        "$$D_{rs}=\\frac{1}{lk}\\sum_{rs}D(X_r, Y_s)$$\n",
        "4. Enlace centroide:\n",
        "$$D_{rs}=D(\\bar{X}_r, \\bar{Y}_s)$$\n",
        "5. Metodo de Ward:\n",
        "$$D_{rs}=\\sqrt{\\frac{2kl}{k+l}}\\cdot||\\bar{X}_r- \\bar{Y}_s||$$"
      ]
    },
    {
      "cell_type": "code",
      "execution_count": 56,
      "metadata": {
        "cell_id": "e54be6702a8740b8afe16c23994bb273",
        "colab": {
          "base_uri": "https://localhost:8080/",
          "height": 423
        },
        "deepnote_cell_type": "code",
        "deepnote_to_be_reexecuted": false,
        "execution_millis": 833,
        "execution_start": 1678498603310,
        "id": "D44XzOQBxYoW",
        "outputId": "dd249c84-6620-4907-9562-d8dfad374f2a",
        "source_hash": "40e7f9e0"
      },
      "outputs": [
        {
          "data": {
            "text/html": [
              "<div>\n",
              "<style scoped>\n",
              "    .dataframe tbody tr th:only-of-type {\n",
              "        vertical-align: middle;\n",
              "    }\n",
              "\n",
              "    .dataframe tbody tr th {\n",
              "        vertical-align: top;\n",
              "    }\n",
              "\n",
              "    .dataframe thead th {\n",
              "        text-align: right;\n",
              "    }\n",
              "</style>\n",
              "<table border=\"1\" class=\"dataframe\">\n",
              "  <thead>\n",
              "    <tr style=\"text-align: right;\">\n",
              "      <th></th>\n",
              "      <th>CustomerID</th>\n",
              "      <th>Genre</th>\n",
              "      <th>Age</th>\n",
              "      <th>Annual Income (k$)</th>\n",
              "      <th>Spending Score (1-100)</th>\n",
              "    </tr>\n",
              "  </thead>\n",
              "  <tbody>\n",
              "    <tr>\n",
              "      <th>0</th>\n",
              "      <td>1</td>\n",
              "      <td>Male</td>\n",
              "      <td>19</td>\n",
              "      <td>15</td>\n",
              "      <td>39</td>\n",
              "    </tr>\n",
              "    <tr>\n",
              "      <th>1</th>\n",
              "      <td>2</td>\n",
              "      <td>Male</td>\n",
              "      <td>21</td>\n",
              "      <td>15</td>\n",
              "      <td>81</td>\n",
              "    </tr>\n",
              "    <tr>\n",
              "      <th>2</th>\n",
              "      <td>3</td>\n",
              "      <td>Female</td>\n",
              "      <td>20</td>\n",
              "      <td>16</td>\n",
              "      <td>6</td>\n",
              "    </tr>\n",
              "    <tr>\n",
              "      <th>3</th>\n",
              "      <td>4</td>\n",
              "      <td>Female</td>\n",
              "      <td>23</td>\n",
              "      <td>16</td>\n",
              "      <td>77</td>\n",
              "    </tr>\n",
              "    <tr>\n",
              "      <th>4</th>\n",
              "      <td>5</td>\n",
              "      <td>Female</td>\n",
              "      <td>31</td>\n",
              "      <td>17</td>\n",
              "      <td>40</td>\n",
              "    </tr>\n",
              "    <tr>\n",
              "      <th>...</th>\n",
              "      <td>...</td>\n",
              "      <td>...</td>\n",
              "      <td>...</td>\n",
              "      <td>...</td>\n",
              "      <td>...</td>\n",
              "    </tr>\n",
              "    <tr>\n",
              "      <th>195</th>\n",
              "      <td>196</td>\n",
              "      <td>Female</td>\n",
              "      <td>35</td>\n",
              "      <td>120</td>\n",
              "      <td>79</td>\n",
              "    </tr>\n",
              "    <tr>\n",
              "      <th>196</th>\n",
              "      <td>197</td>\n",
              "      <td>Female</td>\n",
              "      <td>45</td>\n",
              "      <td>126</td>\n",
              "      <td>28</td>\n",
              "    </tr>\n",
              "    <tr>\n",
              "      <th>197</th>\n",
              "      <td>198</td>\n",
              "      <td>Male</td>\n",
              "      <td>32</td>\n",
              "      <td>126</td>\n",
              "      <td>74</td>\n",
              "    </tr>\n",
              "    <tr>\n",
              "      <th>198</th>\n",
              "      <td>199</td>\n",
              "      <td>Male</td>\n",
              "      <td>32</td>\n",
              "      <td>137</td>\n",
              "      <td>18</td>\n",
              "    </tr>\n",
              "    <tr>\n",
              "      <th>199</th>\n",
              "      <td>200</td>\n",
              "      <td>Male</td>\n",
              "      <td>30</td>\n",
              "      <td>137</td>\n",
              "      <td>83</td>\n",
              "    </tr>\n",
              "  </tbody>\n",
              "</table>\n",
              "<p>200 rows × 5 columns</p>\n",
              "</div>"
            ],
            "text/plain": [
              "     CustomerID   Genre  Age  Annual Income (k$)  Spending Score (1-100)\n",
              "0             1    Male   19                  15                      39\n",
              "1             2    Male   21                  15                      81\n",
              "2             3  Female   20                  16                       6\n",
              "3             4  Female   23                  16                      77\n",
              "4             5  Female   31                  17                      40\n",
              "..          ...     ...  ...                 ...                     ...\n",
              "195         196  Female   35                 120                      79\n",
              "196         197  Female   45                 126                      28\n",
              "197         198    Male   32                 126                      74\n",
              "198         199    Male   32                 137                      18\n",
              "199         200    Male   30                 137                      83\n",
              "\n",
              "[200 rows x 5 columns]"
            ]
          },
          "execution_count": 56,
          "metadata": {},
          "output_type": "execute_result"
        }
      ],
      "source": [
        "# Importacion de librerias\n",
        "import numpy as np\n",
        "import matplotlib.pyplot as plt\n",
        "import pandas as pd\n",
        "\n",
        "\n",
        "dataset = pd.read_csv(\"https://github.com/Wilsonsr/Metodos-Estadisticos/raw/main/BASES/Mall_Customers%20(1).csv\")\n"
      ]
    },
    {
      "cell_type": "code",
      "execution_count": null,
      "metadata": {},
      "outputs": [],
      "source": [
        "dataset"
      ]
    },
    {
      "cell_type": "markdown",
      "metadata": {
        "id": "Lp5s7ikrXX5l"
      },
      "source": [
        "El conjunto de datos contiene información sobre las personas que visitan el centro comercial. El conjunto de datos tiene sexo, identificación del cliente, edad, ingresos anuales y puntuación de gastos.\n"
      ]
    },
    {
      "cell_type": "code",
      "execution_count": 57,
      "metadata": {
        "cell_id": "c8b18315a6334b59915a4dd2e05e5086",
        "colab": {
          "base_uri": "https://localhost:8080/"
        },
        "deepnote_cell_type": "code",
        "deepnote_to_be_reexecuted": false,
        "execution_millis": 4053,
        "execution_start": 1678498604147,
        "id": "qXGF7kVQ4Svi",
        "outputId": "fb38441a-d3fd-4b66-cbbe-59c4412b7d47",
        "source_hash": "19817c15"
      },
      "outputs": [
        {
          "name": "stdout",
          "output_type": "stream",
          "text": [
            "Requirement already satisfied: sweetviz in c:\\users\\wsand\\anaconda31\\lib\\site-packages (2.3.1)\n",
            "Requirement already satisfied: pandas!=1.0.0,!=1.0.1,!=1.0.2,>=0.25.3 in c:\\users\\wsand\\anaconda31\\lib\\site-packages (from sweetviz) (2.0.3)\n",
            "Requirement already satisfied: numpy>=1.16.0 in c:\\users\\wsand\\anaconda31\\lib\\site-packages (from sweetviz) (1.24.3)\n",
            "Requirement already satisfied: matplotlib>=3.1.3 in c:\\users\\wsand\\anaconda31\\lib\\site-packages (from sweetviz) (3.7.2)\n",
            "Requirement already satisfied: tqdm>=4.43.0 in c:\\users\\wsand\\anaconda31\\lib\\site-packages (from sweetviz) (4.65.0)\n",
            "Requirement already satisfied: scipy>=1.3.2 in c:\\users\\wsand\\anaconda31\\lib\\site-packages (from sweetviz) (1.11.1)\n",
            "Requirement already satisfied: jinja2>=2.11.1 in c:\\users\\wsand\\anaconda31\\lib\\site-packages (from sweetviz) (3.1.2)\n",
            "Requirement already satisfied: importlib-resources>=1.2.0 in c:\\users\\wsand\\anaconda31\\lib\\site-packages (from sweetviz) (6.1.1)\n",
            "Requirement already satisfied: MarkupSafe>=2.0 in c:\\users\\wsand\\anaconda31\\lib\\site-packages (from jinja2>=2.11.1->sweetviz) (2.1.1)\n",
            "Requirement already satisfied: contourpy>=1.0.1 in c:\\users\\wsand\\anaconda31\\lib\\site-packages (from matplotlib>=3.1.3->sweetviz) (1.0.5)\n",
            "Requirement already satisfied: cycler>=0.10 in c:\\users\\wsand\\anaconda31\\lib\\site-packages (from matplotlib>=3.1.3->sweetviz) (0.11.0)\n",
            "Requirement already satisfied: fonttools>=4.22.0 in c:\\users\\wsand\\anaconda31\\lib\\site-packages (from matplotlib>=3.1.3->sweetviz) (4.25.0)\n",
            "Requirement already satisfied: kiwisolver>=1.0.1 in c:\\users\\wsand\\anaconda31\\lib\\site-packages (from matplotlib>=3.1.3->sweetviz) (1.4.4)\n",
            "Requirement already satisfied: packaging>=20.0 in c:\\users\\wsand\\anaconda31\\lib\\site-packages (from matplotlib>=3.1.3->sweetviz) (23.1)\n",
            "Requirement already satisfied: pillow>=6.2.0 in c:\\users\\wsand\\anaconda31\\lib\\site-packages (from matplotlib>=3.1.3->sweetviz) (10.2.0)\n",
            "Requirement already satisfied: pyparsing<3.1,>=2.3.1 in c:\\users\\wsand\\anaconda31\\lib\\site-packages (from matplotlib>=3.1.3->sweetviz) (3.0.9)\n",
            "Requirement already satisfied: python-dateutil>=2.7 in c:\\users\\wsand\\anaconda31\\lib\\site-packages (from matplotlib>=3.1.3->sweetviz) (2.8.2)\n",
            "Requirement already satisfied: pytz>=2020.1 in c:\\users\\wsand\\anaconda31\\lib\\site-packages (from pandas!=1.0.0,!=1.0.1,!=1.0.2,>=0.25.3->sweetviz) (2023.3.post1)\n",
            "Requirement already satisfied: tzdata>=2022.1 in c:\\users\\wsand\\anaconda31\\lib\\site-packages (from pandas!=1.0.0,!=1.0.1,!=1.0.2,>=0.25.3->sweetviz) (2023.3)\n",
            "Requirement already satisfied: colorama in c:\\users\\wsand\\anaconda31\\lib\\site-packages (from tqdm>=4.43.0->sweetviz) (0.4.6)\n",
            "Requirement already satisfied: six>=1.5 in c:\\users\\wsand\\anaconda31\\lib\\site-packages (from python-dateutil>=2.7->matplotlib>=3.1.3->sweetviz) (1.16.0)\n"
          ]
        }
      ],
      "source": [
        "#!pip install sweetviz\n",
        "import sweetviz as sv"
      ]
    },
    {
      "cell_type": "code",
      "execution_count": 58,
      "metadata": {
        "cell_id": "469686604be54b73a777f57903061ff8",
        "colab": {
          "base_uri": "https://localhost:8080/",
          "height": 49,
          "referenced_widgets": [
            "d9a7902d245e4138b2f41d261ae0e484",
            "63255102dea24d46bc67498624196abb",
            "763422130f7244b9a323757c7df516aa",
            "3810675b0fdf4153abbf72b9bc88098f",
            "90b3fd9e3a0548f1b8e6176c1bed42f7",
            "8b7e220d0e604541bc05b5f452d9d89c",
            "85d68c510e5645fcbf63730f28743e7b",
            "40b03618bc684aca86a256f0ce3840e4",
            "20c96a07b3d744a684f922cbe15ced07",
            "3e64ac78751b4d219578dd6b2054da50",
            "dac001f95d82471482cfd05a4faca3bc"
          ]
        },
        "deepnote_cell_type": "code",
        "deepnote_to_be_reexecuted": false,
        "execution_millis": 4335,
        "execution_start": 1678498608205,
        "id": "5nfu86Go4dDS",
        "outputId": "33be389e-8bd5-4911-e691-382c2ca82655",
        "source_hash": "fad0b391"
      },
      "outputs": [
        {
          "data": {
            "application/vnd.jupyter.widget-view+json": {
              "model_id": "7fc7db7812304c849786bbbec3f6a599",
              "version_major": 2,
              "version_minor": 0
            },
            "text/plain": [
              "                                             |          | [  0%]   00:00 -> (? left)"
            ]
          },
          "metadata": {},
          "output_type": "display_data"
        }
      ],
      "source": [
        "reporte=sv.analyze(dataset)\n",
        "from IPython.display import HTML\n"
      ]
    },
    {
      "cell_type": "code",
      "execution_count": 59,
      "metadata": {
        "cell_id": "f96a268ba1224f968ab17fd8ff414983",
        "colab": {
          "base_uri": "https://localhost:8080/",
          "height": 1000
        },
        "deepnote_cell_type": "code",
        "deepnote_to_be_reexecuted": false,
        "execution_millis": 240,
        "execution_start": 1678498612561,
        "id": "Ttzsgxhb4vU8",
        "outputId": "aa426ca8-ba2e-48c0-ba91-6cb99239f05c",
        "source_hash": "7ccf6878"
      },
      "outputs": [
        {
          "name": "stdout",
          "output_type": "stream",
          "text": [
            "Report SWEETVIZ_REPORT.html was generated! NOTEBOOK/COLAB USERS: the web browser MAY not pop up, regardless, the report IS saved in your notebook/colab files.\n"
          ]
        }
      ],
      "source": [
        "reporte.show_html()\n",
        "#HTML(\"SWEETVIZ_REPORT.html\")"
      ]
    },
    {
      "cell_type": "code",
      "execution_count": 61,
      "metadata": {
        "cell_id": "948562dac7874f17b059f1e1424e8d66",
        "deepnote_cell_type": "code",
        "deepnote_to_be_reexecuted": false,
        "execution_millis": 17,
        "execution_start": 1678498612789,
        "id": "lS3s9oqo4tKB",
        "source_hash": "b623e53d"
      },
      "outputs": [
        {
          "data": {
            "application/vnd.jupyter.widget-view+json": {
              "model_id": "df86781c404e4db6a1f8d48e3bcc37b8",
              "version_major": 2,
              "version_minor": 0
            },
            "text/plain": [
              "Box(children=(HTML(value='<div id=\"ifr-pyg-000613bb56a36e9a2yjrdG4AfXlTE5hS\" style=\"height: auto\">\\n    <head>…"
            ]
          },
          "metadata": {},
          "output_type": "display_data"
        },
        {
          "data": {
            "text/html": [],
            "text/plain": [
              "<IPython.core.display.HTML object>"
            ]
          },
          "metadata": {},
          "output_type": "display_data"
        },
        {
          "data": {
            "text/plain": [
              "<pygwalker.api.pygwalker.PygWalker at 0x21857a3fc50>"
            ]
          },
          "execution_count": 61,
          "metadata": {},
          "output_type": "execute_result"
        }
      ],
      "source": [
        "#!pip install pygwalker\n",
        "import pygwalker as pyg\n",
        "pyg.walk(dataset)"
      ]
    },
    {
      "cell_type": "code",
      "execution_count": 62,
      "metadata": {},
      "outputs": [
        {
          "data": {
            "text/html": [
              "<div>\n",
              "<style scoped>\n",
              "    .dataframe tbody tr th:only-of-type {\n",
              "        vertical-align: middle;\n",
              "    }\n",
              "\n",
              "    .dataframe tbody tr th {\n",
              "        vertical-align: top;\n",
              "    }\n",
              "\n",
              "    .dataframe thead th {\n",
              "        text-align: right;\n",
              "    }\n",
              "</style>\n",
              "<table border=\"1\" class=\"dataframe\">\n",
              "  <thead>\n",
              "    <tr style=\"text-align: right;\">\n",
              "      <th></th>\n",
              "      <th>CustomerID</th>\n",
              "      <th>Genre</th>\n",
              "      <th>Age</th>\n",
              "      <th>Annual Income (k$)</th>\n",
              "      <th>Spending Score (1-100)</th>\n",
              "    </tr>\n",
              "  </thead>\n",
              "  <tbody>\n",
              "    <tr>\n",
              "      <th>0</th>\n",
              "      <td>1</td>\n",
              "      <td>Male</td>\n",
              "      <td>19</td>\n",
              "      <td>15</td>\n",
              "      <td>39</td>\n",
              "    </tr>\n",
              "    <tr>\n",
              "      <th>1</th>\n",
              "      <td>2</td>\n",
              "      <td>Male</td>\n",
              "      <td>21</td>\n",
              "      <td>15</td>\n",
              "      <td>81</td>\n",
              "    </tr>\n",
              "    <tr>\n",
              "      <th>2</th>\n",
              "      <td>3</td>\n",
              "      <td>Female</td>\n",
              "      <td>20</td>\n",
              "      <td>16</td>\n",
              "      <td>6</td>\n",
              "    </tr>\n",
              "    <tr>\n",
              "      <th>3</th>\n",
              "      <td>4</td>\n",
              "      <td>Female</td>\n",
              "      <td>23</td>\n",
              "      <td>16</td>\n",
              "      <td>77</td>\n",
              "    </tr>\n",
              "    <tr>\n",
              "      <th>4</th>\n",
              "      <td>5</td>\n",
              "      <td>Female</td>\n",
              "      <td>31</td>\n",
              "      <td>17</td>\n",
              "      <td>40</td>\n",
              "    </tr>\n",
              "  </tbody>\n",
              "</table>\n",
              "</div>"
            ],
            "text/plain": [
              "   CustomerID   Genre  Age  Annual Income (k$)  Spending Score (1-100)\n",
              "0           1    Male   19                  15                      39\n",
              "1           2    Male   21                  15                      81\n",
              "2           3  Female   20                  16                       6\n",
              "3           4  Female   23                  16                      77\n",
              "4           5  Female   31                  17                      40"
            ]
          },
          "execution_count": 62,
          "metadata": {},
          "output_type": "execute_result"
        }
      ],
      "source": [
        "dataset.head()"
      ]
    },
    {
      "cell_type": "code",
      "execution_count": 74,
      "metadata": {
        "cell_id": "67418262ddb34c2bb601223eede1657e",
        "colab": {
          "base_uri": "https://localhost:8080/"
        },
        "deepnote_cell_type": "code",
        "deepnote_to_be_reexecuted": false,
        "execution_millis": 14,
        "execution_start": 1678498612793,
        "id": "dINNx2PQxhYN",
        "outputId": "8a8649e1-57a4-4789-ba26-b6adc4d61e4f",
        "source_hash": "e7a0693a"
      },
      "outputs": [
        {
          "data": {
            "text/plain": [
              "array([[ 15,  39],\n",
              "       [ 15,  81],\n",
              "       [ 16,   6],\n",
              "       [ 16,  77],\n",
              "       [ 17,  40],\n",
              "       [ 17,  76],\n",
              "       [ 18,   6],\n",
              "       [ 18,  94],\n",
              "       [ 19,   3],\n",
              "       [ 19,  72],\n",
              "       [ 19,  14],\n",
              "       [ 19,  99],\n",
              "       [ 20,  15],\n",
              "       [ 20,  77],\n",
              "       [ 20,  13],\n",
              "       [ 20,  79],\n",
              "       [ 21,  35],\n",
              "       [ 21,  66],\n",
              "       [ 23,  29],\n",
              "       [ 23,  98],\n",
              "       [ 24,  35],\n",
              "       [ 24,  73],\n",
              "       [ 25,   5],\n",
              "       [ 25,  73],\n",
              "       [ 28,  14],\n",
              "       [ 28,  82],\n",
              "       [ 28,  32],\n",
              "       [ 28,  61],\n",
              "       [ 29,  31],\n",
              "       [ 29,  87],\n",
              "       [ 30,   4],\n",
              "       [ 30,  73],\n",
              "       [ 33,   4],\n",
              "       [ 33,  92],\n",
              "       [ 33,  14],\n",
              "       [ 33,  81],\n",
              "       [ 34,  17],\n",
              "       [ 34,  73],\n",
              "       [ 37,  26],\n",
              "       [ 37,  75],\n",
              "       [ 38,  35],\n",
              "       [ 38,  92],\n",
              "       [ 39,  36],\n",
              "       [ 39,  61],\n",
              "       [ 39,  28],\n",
              "       [ 39,  65],\n",
              "       [ 40,  55],\n",
              "       [ 40,  47],\n",
              "       [ 40,  42],\n",
              "       [ 40,  42],\n",
              "       [ 42,  52],\n",
              "       [ 42,  60],\n",
              "       [ 43,  54],\n",
              "       [ 43,  60],\n",
              "       [ 43,  45],\n",
              "       [ 43,  41],\n",
              "       [ 44,  50],\n",
              "       [ 44,  46],\n",
              "       [ 46,  51],\n",
              "       [ 46,  46],\n",
              "       [ 46,  56],\n",
              "       [ 46,  55],\n",
              "       [ 47,  52],\n",
              "       [ 47,  59],\n",
              "       [ 48,  51],\n",
              "       [ 48,  59],\n",
              "       [ 48,  50],\n",
              "       [ 48,  48],\n",
              "       [ 48,  59],\n",
              "       [ 48,  47],\n",
              "       [ 49,  55],\n",
              "       [ 49,  42],\n",
              "       [ 50,  49],\n",
              "       [ 50,  56],\n",
              "       [ 54,  47],\n",
              "       [ 54,  54],\n",
              "       [ 54,  53],\n",
              "       [ 54,  48],\n",
              "       [ 54,  52],\n",
              "       [ 54,  42],\n",
              "       [ 54,  51],\n",
              "       [ 54,  55],\n",
              "       [ 54,  41],\n",
              "       [ 54,  44],\n",
              "       [ 54,  57],\n",
              "       [ 54,  46],\n",
              "       [ 57,  58],\n",
              "       [ 57,  55],\n",
              "       [ 58,  60],\n",
              "       [ 58,  46],\n",
              "       [ 59,  55],\n",
              "       [ 59,  41],\n",
              "       [ 60,  49],\n",
              "       [ 60,  40],\n",
              "       [ 60,  42],\n",
              "       [ 60,  52],\n",
              "       [ 60,  47],\n",
              "       [ 60,  50],\n",
              "       [ 61,  42],\n",
              "       [ 61,  49],\n",
              "       [ 62,  41],\n",
              "       [ 62,  48],\n",
              "       [ 62,  59],\n",
              "       [ 62,  55],\n",
              "       [ 62,  56],\n",
              "       [ 62,  42],\n",
              "       [ 63,  50],\n",
              "       [ 63,  46],\n",
              "       [ 63,  43],\n",
              "       [ 63,  48],\n",
              "       [ 63,  52],\n",
              "       [ 63,  54],\n",
              "       [ 64,  42],\n",
              "       [ 64,  46],\n",
              "       [ 65,  48],\n",
              "       [ 65,  50],\n",
              "       [ 65,  43],\n",
              "       [ 65,  59],\n",
              "       [ 67,  43],\n",
              "       [ 67,  57],\n",
              "       [ 67,  56],\n",
              "       [ 67,  40],\n",
              "       [ 69,  58],\n",
              "       [ 69,  91],\n",
              "       [ 70,  29],\n",
              "       [ 70,  77],\n",
              "       [ 71,  35],\n",
              "       [ 71,  95],\n",
              "       [ 71,  11],\n",
              "       [ 71,  75],\n",
              "       [ 71,   9],\n",
              "       [ 71,  75],\n",
              "       [ 72,  34],\n",
              "       [ 72,  71],\n",
              "       [ 73,   5],\n",
              "       [ 73,  88],\n",
              "       [ 73,   7],\n",
              "       [ 73,  73],\n",
              "       [ 74,  10],\n",
              "       [ 74,  72],\n",
              "       [ 75,   5],\n",
              "       [ 75,  93],\n",
              "       [ 76,  40],\n",
              "       [ 76,  87],\n",
              "       [ 77,  12],\n",
              "       [ 77,  97],\n",
              "       [ 77,  36],\n",
              "       [ 77,  74],\n",
              "       [ 78,  22],\n",
              "       [ 78,  90],\n",
              "       [ 78,  17],\n",
              "       [ 78,  88],\n",
              "       [ 78,  20],\n",
              "       [ 78,  76],\n",
              "       [ 78,  16],\n",
              "       [ 78,  89],\n",
              "       [ 78,   1],\n",
              "       [ 78,  78],\n",
              "       [ 78,   1],\n",
              "       [ 78,  73],\n",
              "       [ 79,  35],\n",
              "       [ 79,  83],\n",
              "       [ 81,   5],\n",
              "       [ 81,  93],\n",
              "       [ 85,  26],\n",
              "       [ 85,  75],\n",
              "       [ 86,  20],\n",
              "       [ 86,  95],\n",
              "       [ 87,  27],\n",
              "       [ 87,  63],\n",
              "       [ 87,  13],\n",
              "       [ 87,  75],\n",
              "       [ 87,  10],\n",
              "       [ 87,  92],\n",
              "       [ 88,  13],\n",
              "       [ 88,  86],\n",
              "       [ 88,  15],\n",
              "       [ 88,  69],\n",
              "       [ 93,  14],\n",
              "       [ 93,  90],\n",
              "       [ 97,  32],\n",
              "       [ 97,  86],\n",
              "       [ 98,  15],\n",
              "       [ 98,  88],\n",
              "       [ 99,  39],\n",
              "       [ 99,  97],\n",
              "       [101,  24],\n",
              "       [101,  68],\n",
              "       [103,  17],\n",
              "       [103,  85],\n",
              "       [103,  23],\n",
              "       [103,  69],\n",
              "       [113,   8],\n",
              "       [113,  91],\n",
              "       [120,  16],\n",
              "       [120,  79],\n",
              "       [126,  28],\n",
              "       [126,  74],\n",
              "       [137,  18],\n",
              "       [137,  83]], dtype=int64)"
            ]
          },
          "execution_count": 74,
          "metadata": {},
          "output_type": "execute_result"
        }
      ],
      "source": [
        "X = dataset.iloc[:, [3, 4]].values\n",
        "X"
      ]
    },
    {
      "cell_type": "code",
      "execution_count": 71,
      "metadata": {
        "cell_id": "8bd0f93272e8425badf7d673a6f7b394",
        "colab": {
          "base_uri": "https://localhost:8080/",
          "height": 868
        },
        "deepnote_cell_type": "code",
        "deepnote_to_be_reexecuted": false,
        "execution_millis": 1836,
        "execution_start": 1678498612796,
        "id": "_x8AknPbxrWV",
        "outputId": "6dd8334d-9035-4fa7-835e-38cad2456631",
        "source_hash": "64fb3d73"
      },
      "outputs": [
        {
          "data": {
            "image/png": "[encoded data removed]",
            "text/plain": [
              "<Figure size 500x500 with 1 Axes>"
            ]
          },
          "metadata": {},
          "output_type": "display_data"
        }
      ],
      "source": [
        "# Creamos el dendograma para encontrar el número óptimo de clusters\n",
        "\n",
        "import scipy.cluster.hierarchy as sch\n",
        "\n",
        "plt.figure(figsize=(5,5) )\n",
        "dendrogram = sch.dendrogram(sch.linkage(X, method = 'ward'))\n",
        "plt.title('Dendograma')\n",
        "plt.xlabel('Clientes')\n",
        "plt.ylabel('Distancias Euclidianas')\n",
        "plt.show()"
      ]
    },
    {
      "cell_type": "code",
      "execution_count": 72,
      "metadata": {
        "cell_id": "404c35b1d9a746cc9105403da446e8c2",
        "colab": {
          "base_uri": "https://localhost:8080/"
        },
        "deepnote_cell_type": "code",
        "deepnote_to_be_reexecuted": false,
        "execution_millis": 269,
        "execution_start": 1678498614636,
        "id": "_0-Llk68x964",
        "outputId": "f3ce6583-24cf-4be1-dcfd-183b7aacba29",
        "source_hash": "7c3ceab1"
      },
      "outputs": [
        {
          "data": {
            "text/plain": [
              "array([0, 0, 0, 0, 0, 0, 0, 0, 0, 0, 0, 0, 0, 0, 0, 0, 0, 0, 0, 0, 0, 0,\n",
              "       0, 0, 0, 0, 0, 0, 0, 0, 0, 0, 0, 0, 0, 0, 0, 0, 0, 0, 0, 0, 0, 0,\n",
              "       0, 0, 0, 0, 0, 0, 0, 0, 0, 0, 0, 0, 0, 0, 0, 0, 0, 0, 0, 0, 0, 0,\n",
              "       0, 0, 0, 0, 0, 0, 0, 0, 0, 0, 0, 0, 0, 0, 0, 0, 0, 0, 0, 0, 0, 0,\n",
              "       0, 0, 0, 0, 0, 0, 0, 0, 0, 0, 0, 0, 0, 0, 0, 0, 0, 0, 0, 0, 0, 0,\n",
              "       0, 0, 0, 0, 0, 0, 0, 0, 0, 0, 0, 0, 0, 2, 0, 2, 1, 2, 1, 2, 1, 2,\n",
              "       0, 2, 1, 2, 1, 2, 1, 2, 1, 2, 0, 2, 1, 2, 1, 2, 1, 2, 1, 2, 1, 2,\n",
              "       1, 2, 1, 2, 1, 2, 1, 2, 1, 2, 1, 2, 1, 2, 1, 2, 1, 2, 1, 2, 1, 2,\n",
              "       1, 2, 1, 2, 1, 2, 1, 2, 1, 2, 1, 2, 1, 2, 1, 2, 1, 2, 1, 2, 1, 2,\n",
              "       1, 2], dtype=int64)"
            ]
          },
          "execution_count": 72,
          "metadata": {},
          "output_type": "execute_result"
        }
      ],
      "source": [
        "# Ajustando Clustering Jerárquico al conjunto de datos\n",
        "from sklearn.cluster import AgglomerativeClustering\n",
        "hc = AgglomerativeClustering(n_clusters =3,\n",
        "                    metric= 'euclidean',\n",
        "                    linkage = 'ward',                        \n",
        "                    )\n",
        "\n",
        "y_hc = hc.fit_predict(X)\n",
        "y_hc"
      ]
    },
    {
      "cell_type": "code",
      "execution_count": 73,
      "metadata": {
        "cell_id": "2d2dab61aa4b4fa090df78bc85c1fa1a",
        "colab": {
          "base_uri": "https://localhost:8080/",
          "height": 467
        },
        "deepnote_cell_type": "code",
        "deepnote_to_be_reexecuted": false,
        "execution_millis": 308,
        "execution_start": 1678498614915,
        "id": "V_naacHLyGow",
        "outputId": "ce861cf4-8fb2-4064-bddc-364ca979ef10",
        "source_hash": "8e10a736"
      },
      "outputs": [
        {
          "data": {
            "image/png": "[encoded data removed]",
            "text/plain": [
              "<Figure size 2000x1000 with 1 Axes>"
            ]
          },
          "metadata": {},
          "output_type": "display_data"
        }
      ],
      "source": [
        "#Vizualizar los cluster\n",
        "plt.scatter(X[y_hc == 0, 0], X[y_hc == 0, 1], s = 100, c = 'red', label = 'Cluster 1')\n",
        "plt.scatter(X[y_hc == 1, 0], X[y_hc == 1, 1], s = 100, c = 'blue', label = 'Cluster 2')\n",
        "plt.scatter(X[y_hc == 2, 0], X[y_hc == 2, 1], s = 100, c = 'green', label = 'Cluster 3')\n",
        "plt.scatter(X[y_hc == 3, 0], X[y_hc == 3, 1], s = 100, c = 'cyan', label = 'Cluster 4')\n",
        "plt.scatter(X[y_hc == 4, 0], X[y_hc == 4, 1], s = 100, c = 'magenta', label = 'Cluster 5')\n",
        "plt.title('Cluster de Clientes')\n",
        "plt.xlabel('Ingreso Anual (k$)')\n",
        "plt.ylabel('Spending Score (1-100)')\n",
        "plt.legend()\n",
        "plt.show()"
      ]
    },
    {
      "cell_type": "code",
      "execution_count": 75,
      "metadata": {
        "cell_id": "5f30e7e0f1584e389acb30ed80772afc",
        "deepnote_cell_type": "code",
        "deepnote_to_be_reexecuted": false,
        "execution_millis": 131,
        "execution_start": 1678498615220,
        "id": "Jo0tnHdiQ6dv",
        "source_hash": "2f60280c"
      },
      "outputs": [],
      "source": [
        "import numpy as np\n",
        "import pandas as pd\n",
        "import plotly.express as px\n",
        "from matplotlib import pyplot as plt"
      ]
    },
    {
      "cell_type": "code",
      "execution_count": 76,
      "metadata": {
        "cell_id": "275e9e8ea4ae4506a7f244e1a7c1ec8a",
        "colab": {
          "base_uri": "https://localhost:8080/",
          "height": 475
        },
        "deepnote_cell_type": "code",
        "deepnote_to_be_reexecuted": false,
        "execution_millis": 167,
        "execution_start": 1678498615353,
        "id": "O2txacVfRRN9",
        "outputId": "b1d06577-a33c-4733-bb13-1095ddb06369",
        "source_hash": "3c225406"
      },
      "outputs": [
        {
          "data": {
            "text/html": [
              "<div>\n",
              "<style scoped>\n",
              "    .dataframe tbody tr th:only-of-type {\n",
              "        vertical-align: middle;\n",
              "    }\n",
              "\n",
              "    .dataframe tbody tr th {\n",
              "        vertical-align: top;\n",
              "    }\n",
              "\n",
              "    .dataframe thead th {\n",
              "        text-align: right;\n",
              "    }\n",
              "</style>\n",
              "<table border=\"1\" class=\"dataframe\">\n",
              "  <thead>\n",
              "    <tr style=\"text-align: right;\">\n",
              "      <th></th>\n",
              "      <th>Tipo</th>\n",
              "      <th>Radio</th>\n",
              "      <th>Textura</th>\n",
              "      <th>Perimetro</th>\n",
              "      <th>Area</th>\n",
              "      <th>Suavidad</th>\n",
              "      <th>Compacidad</th>\n",
              "      <th>Concavidad</th>\n",
              "      <th>Puntos_Conca</th>\n",
              "      <th>Simetria</th>\n",
              "      <th>...</th>\n",
              "      <th>Radio_WM</th>\n",
              "      <th>Textura_WM</th>\n",
              "      <th>Perimetro_WM</th>\n",
              "      <th>Area_WM</th>\n",
              "      <th>Suavidad_WM</th>\n",
              "      <th>Compacidad_WM</th>\n",
              "      <th>Concavidad_WM</th>\n",
              "      <th>Puntos_Conca_WM</th>\n",
              "      <th>Simetria_WM</th>\n",
              "      <th>Fractal_WM</th>\n",
              "    </tr>\n",
              "    <tr>\n",
              "      <th>ID</th>\n",
              "      <th></th>\n",
              "      <th></th>\n",
              "      <th></th>\n",
              "      <th></th>\n",
              "      <th></th>\n",
              "      <th></th>\n",
              "      <th></th>\n",
              "      <th></th>\n",
              "      <th></th>\n",
              "      <th></th>\n",
              "      <th></th>\n",
              "      <th></th>\n",
              "      <th></th>\n",
              "      <th></th>\n",
              "      <th></th>\n",
              "      <th></th>\n",
              "      <th></th>\n",
              "      <th></th>\n",
              "      <th></th>\n",
              "      <th></th>\n",
              "      <th></th>\n",
              "    </tr>\n",
              "  </thead>\n",
              "  <tbody>\n",
              "    <tr>\n",
              "      <th>842302</th>\n",
              "      <td>M</td>\n",
              "      <td>1799</td>\n",
              "      <td>1038</td>\n",
              "      <td>1228</td>\n",
              "      <td>1001</td>\n",
              "      <td>1184</td>\n",
              "      <td>2776</td>\n",
              "      <td>3001</td>\n",
              "      <td>1471</td>\n",
              "      <td>2419</td>\n",
              "      <td>...</td>\n",
              "      <td>2538</td>\n",
              "      <td>1733</td>\n",
              "      <td>1846</td>\n",
              "      <td>2019</td>\n",
              "      <td>1622</td>\n",
              "      <td>6656</td>\n",
              "      <td>7119</td>\n",
              "      <td>2654</td>\n",
              "      <td>4601</td>\n",
              "      <td>1189</td>\n",
              "    </tr>\n",
              "    <tr>\n",
              "      <th>842517</th>\n",
              "      <td>M</td>\n",
              "      <td>2057</td>\n",
              "      <td>1777</td>\n",
              "      <td>1329</td>\n",
              "      <td>1326</td>\n",
              "      <td>8474</td>\n",
              "      <td>7864</td>\n",
              "      <td>869</td>\n",
              "      <td>7017</td>\n",
              "      <td>1812</td>\n",
              "      <td>...</td>\n",
              "      <td>2499</td>\n",
              "      <td>2341</td>\n",
              "      <td>1588</td>\n",
              "      <td>1956</td>\n",
              "      <td>1238</td>\n",
              "      <td>1866</td>\n",
              "      <td>2416</td>\n",
              "      <td>186</td>\n",
              "      <td>275</td>\n",
              "      <td>8902</td>\n",
              "    </tr>\n",
              "    <tr>\n",
              "      <th>84300903</th>\n",
              "      <td>M</td>\n",
              "      <td>1969</td>\n",
              "      <td>2125</td>\n",
              "      <td>130</td>\n",
              "      <td>1203</td>\n",
              "      <td>1096</td>\n",
              "      <td>1599</td>\n",
              "      <td>1974</td>\n",
              "      <td>1279</td>\n",
              "      <td>2069</td>\n",
              "      <td>...</td>\n",
              "      <td>2357</td>\n",
              "      <td>2553</td>\n",
              "      <td>1525</td>\n",
              "      <td>1709</td>\n",
              "      <td>1444</td>\n",
              "      <td>4245</td>\n",
              "      <td>4504</td>\n",
              "      <td>243</td>\n",
              "      <td>3613</td>\n",
              "      <td>8758</td>\n",
              "    </tr>\n",
              "    <tr>\n",
              "      <th>84348301</th>\n",
              "      <td>M</td>\n",
              "      <td>1142</td>\n",
              "      <td>2038</td>\n",
              "      <td>7758</td>\n",
              "      <td>3861</td>\n",
              "      <td>1425</td>\n",
              "      <td>2839</td>\n",
              "      <td>2414</td>\n",
              "      <td>1052</td>\n",
              "      <td>2597</td>\n",
              "      <td>...</td>\n",
              "      <td>1491</td>\n",
              "      <td>265</td>\n",
              "      <td>9887</td>\n",
              "      <td>5677</td>\n",
              "      <td>2098</td>\n",
              "      <td>8663</td>\n",
              "      <td>6869</td>\n",
              "      <td>2575</td>\n",
              "      <td>6638</td>\n",
              "      <td>173</td>\n",
              "    </tr>\n",
              "    <tr>\n",
              "      <th>84358402</th>\n",
              "      <td>M</td>\n",
              "      <td>2029</td>\n",
              "      <td>1434</td>\n",
              "      <td>1351</td>\n",
              "      <td>1297</td>\n",
              "      <td>1003</td>\n",
              "      <td>1328</td>\n",
              "      <td>198</td>\n",
              "      <td>1043</td>\n",
              "      <td>1809</td>\n",
              "      <td>...</td>\n",
              "      <td>2254</td>\n",
              "      <td>1667</td>\n",
              "      <td>1522</td>\n",
              "      <td>1575</td>\n",
              "      <td>1374</td>\n",
              "      <td>205</td>\n",
              "      <td>4</td>\n",
              "      <td>1625</td>\n",
              "      <td>2364</td>\n",
              "      <td>7678</td>\n",
              "    </tr>\n",
              "    <tr>\n",
              "      <th>...</th>\n",
              "      <td>...</td>\n",
              "      <td>...</td>\n",
              "      <td>...</td>\n",
              "      <td>...</td>\n",
              "      <td>...</td>\n",
              "      <td>...</td>\n",
              "      <td>...</td>\n",
              "      <td>...</td>\n",
              "      <td>...</td>\n",
              "      <td>...</td>\n",
              "      <td>...</td>\n",
              "      <td>...</td>\n",
              "      <td>...</td>\n",
              "      <td>...</td>\n",
              "      <td>...</td>\n",
              "      <td>...</td>\n",
              "      <td>...</td>\n",
              "      <td>...</td>\n",
              "      <td>...</td>\n",
              "      <td>...</td>\n",
              "      <td>...</td>\n",
              "    </tr>\n",
              "    <tr>\n",
              "      <th>926424</th>\n",
              "      <td>M</td>\n",
              "      <td>2156</td>\n",
              "      <td>2239</td>\n",
              "      <td>142</td>\n",
              "      <td>1479</td>\n",
              "      <td>111</td>\n",
              "      <td>1159</td>\n",
              "      <td>2439</td>\n",
              "      <td>1389</td>\n",
              "      <td>1726</td>\n",
              "      <td>...</td>\n",
              "      <td>2545</td>\n",
              "      <td>264</td>\n",
              "      <td>1661</td>\n",
              "      <td>2027</td>\n",
              "      <td>141</td>\n",
              "      <td>2113</td>\n",
              "      <td>4107</td>\n",
              "      <td>2216</td>\n",
              "      <td>206</td>\n",
              "      <td>7115</td>\n",
              "    </tr>\n",
              "    <tr>\n",
              "      <th>926682</th>\n",
              "      <td>M</td>\n",
              "      <td>2013</td>\n",
              "      <td>2825</td>\n",
              "      <td>1312</td>\n",
              "      <td>1261</td>\n",
              "      <td>978</td>\n",
              "      <td>1034</td>\n",
              "      <td>144</td>\n",
              "      <td>9791</td>\n",
              "      <td>1752</td>\n",
              "      <td>...</td>\n",
              "      <td>2369</td>\n",
              "      <td>3825</td>\n",
              "      <td>155</td>\n",
              "      <td>1731</td>\n",
              "      <td>1166</td>\n",
              "      <td>1922</td>\n",
              "      <td>3215</td>\n",
              "      <td>1628</td>\n",
              "      <td>2572</td>\n",
              "      <td>6637</td>\n",
              "    </tr>\n",
              "    <tr>\n",
              "      <th>926954</th>\n",
              "      <td>M</td>\n",
              "      <td>166</td>\n",
              "      <td>2808</td>\n",
              "      <td>1083</td>\n",
              "      <td>8581</td>\n",
              "      <td>8455</td>\n",
              "      <td>1023</td>\n",
              "      <td>9251</td>\n",
              "      <td>5302</td>\n",
              "      <td>159</td>\n",
              "      <td>...</td>\n",
              "      <td>1898</td>\n",
              "      <td>3412</td>\n",
              "      <td>1267</td>\n",
              "      <td>1124</td>\n",
              "      <td>1139</td>\n",
              "      <td>3094</td>\n",
              "      <td>3403</td>\n",
              "      <td>1418</td>\n",
              "      <td>2218</td>\n",
              "      <td>782</td>\n",
              "    </tr>\n",
              "    <tr>\n",
              "      <th>927241</th>\n",
              "      <td>M</td>\n",
              "      <td>206</td>\n",
              "      <td>2933</td>\n",
              "      <td>1401</td>\n",
              "      <td>1265</td>\n",
              "      <td>1178</td>\n",
              "      <td>277</td>\n",
              "      <td>3514</td>\n",
              "      <td>152</td>\n",
              "      <td>2397</td>\n",
              "      <td>...</td>\n",
              "      <td>2574</td>\n",
              "      <td>3942</td>\n",
              "      <td>1846</td>\n",
              "      <td>1821</td>\n",
              "      <td>165</td>\n",
              "      <td>8681</td>\n",
              "      <td>9387</td>\n",
              "      <td>265</td>\n",
              "      <td>4087</td>\n",
              "      <td>124</td>\n",
              "    </tr>\n",
              "    <tr>\n",
              "      <th>92751</th>\n",
              "      <td>B</td>\n",
              "      <td>776</td>\n",
              "      <td>2454</td>\n",
              "      <td>4792</td>\n",
              "      <td>181</td>\n",
              "      <td>5263</td>\n",
              "      <td>4362</td>\n",
              "      <td>0</td>\n",
              "      <td>0</td>\n",
              "      <td>1587</td>\n",
              "      <td>...</td>\n",
              "      <td>9456</td>\n",
              "      <td>3037</td>\n",
              "      <td>5916</td>\n",
              "      <td>2686</td>\n",
              "      <td>8996</td>\n",
              "      <td>6444</td>\n",
              "      <td>0</td>\n",
              "      <td>0</td>\n",
              "      <td>2871</td>\n",
              "      <td>7039</td>\n",
              "    </tr>\n",
              "  </tbody>\n",
              "</table>\n",
              "<p>569 rows × 31 columns</p>\n",
              "</div>"
            ],
            "text/plain": [
              "         Tipo  Radio  Textura  Perimetro  Area  Suavidad  Compacidad  \\\n",
              "ID                                                                     \n",
              "842302      M   1799     1038       1228  1001      1184        2776   \n",
              "842517      M   2057     1777       1329  1326      8474        7864   \n",
              "84300903    M   1969     2125        130  1203      1096        1599   \n",
              "84348301    M   1142     2038       7758  3861      1425        2839   \n",
              "84358402    M   2029     1434       1351  1297      1003        1328   \n",
              "...       ...    ...      ...        ...   ...       ...         ...   \n",
              "926424      M   2156     2239        142  1479       111        1159   \n",
              "926682      M   2013     2825       1312  1261       978        1034   \n",
              "926954      M    166     2808       1083  8581      8455        1023   \n",
              "927241      M    206     2933       1401  1265      1178         277   \n",
              "92751       B    776     2454       4792   181      5263        4362   \n",
              "\n",
              "          Concavidad  Puntos_Conca  Simetria  ...  Radio_WM  Textura_WM  \\\n",
              "ID                                            ...                         \n",
              "842302          3001          1471      2419  ...      2538        1733   \n",
              "842517           869          7017      1812  ...      2499        2341   \n",
              "84300903        1974          1279      2069  ...      2357        2553   \n",
              "84348301        2414          1052      2597  ...      1491         265   \n",
              "84358402         198          1043      1809  ...      2254        1667   \n",
              "...              ...           ...       ...  ...       ...         ...   \n",
              "926424          2439          1389      1726  ...      2545         264   \n",
              "926682           144          9791      1752  ...      2369        3825   \n",
              "926954          9251          5302       159  ...      1898        3412   \n",
              "927241          3514           152      2397  ...      2574        3942   \n",
              "92751              0             0      1587  ...      9456        3037   \n",
              "\n",
              "          Perimetro_WM  Area_WM  Suavidad_WM  Compacidad_WM  Concavidad_WM  \\\n",
              "ID                                                                           \n",
              "842302            1846     2019         1622           6656           7119   \n",
              "842517            1588     1956         1238           1866           2416   \n",
              "84300903          1525     1709         1444           4245           4504   \n",
              "84348301          9887     5677         2098           8663           6869   \n",
              "84358402          1522     1575         1374            205              4   \n",
              "...                ...      ...          ...            ...            ...   \n",
              "926424            1661     2027          141           2113           4107   \n",
              "926682             155     1731         1166           1922           3215   \n",
              "926954            1267     1124         1139           3094           3403   \n",
              "927241            1846     1821          165           8681           9387   \n",
              "92751             5916     2686         8996           6444              0   \n",
              "\n",
              "          Puntos_Conca_WM  Simetria_WM  Fractal_WM  \n",
              "ID                                                  \n",
              "842302               2654         4601        1189  \n",
              "842517                186          275        8902  \n",
              "84300903              243         3613        8758  \n",
              "84348301             2575         6638         173  \n",
              "84358402             1625         2364        7678  \n",
              "...                   ...          ...         ...  \n",
              "926424               2216          206        7115  \n",
              "926682               1628         2572        6637  \n",
              "926954               1418         2218         782  \n",
              "927241                265         4087         124  \n",
              "92751                   0         2871        7039  \n",
              "\n",
              "[569 rows x 31 columns]"
            ]
          },
          "execution_count": 76,
          "metadata": {},
          "output_type": "execute_result"
        }
      ],
      "source": [
        "url=\"https://github.com/Wilsonsr/Metodos-Estadisticos/raw/main/BASES/Cancer.csv\"\n",
        "datos=pd.read_csv(url, sep=\";\", index_col=0)\n",
        "datos"
      ]
    },
    {
      "cell_type": "code",
      "execution_count": 77,
      "metadata": {
        "colab": {
          "base_uri": "https://localhost:8080/"
        },
        "id": "qg_aMBsqYaVY",
        "outputId": "c82187e5-58ca-45ea-f613-2eb16f7b06f4"
      },
      "outputs": [
        {
          "data": {
            "text/plain": [
              "Index(['Tipo', 'Radio', 'Textura', 'Perimetro', 'Area', 'Suavidad',\n",
              "       'Compacidad', 'Concavidad', 'Puntos_Conca', 'Simetria', 'Fractal',\n",
              "       'Radio_SE', 'Textura_SE', 'Perimetro_SE', 'Area_SE', 'Suavidad_SE',\n",
              "       'Compacidad_SE', 'Concavidad_SE', 'Puntos_Conca_SE', 'Simetria_SE',\n",
              "       'Fractal_SE', 'Radio_WM', 'Textura_WM', 'Perimetro_WM', 'Area_WM',\n",
              "       'Suavidad_WM', 'Compacidad_WM', 'Concavidad_WM', 'Puntos_Conca_WM',\n",
              "       'Simetria_WM', 'Fractal_WM'],\n",
              "      dtype='object')"
            ]
          },
          "execution_count": 77,
          "metadata": {},
          "output_type": "execute_result"
        }
      ],
      "source": [
        "datos.columns"
      ]
    },
    {
      "cell_type": "markdown",
      "metadata": {
        "cell_id": "7c02cfafdf1545cdbf9ec906968452a3",
        "deepnote_cell_type": "markdown",
        "id": "yVE-186qBQhC"
      },
      "source": [
        "## Libreria SciPy\n",
        "\n",
        "1. La documentación de distancias [acá](https://docs.scipy.org/doc/scipy/reference/generated/scipy.spatial.distance.pdist.html#scipy.spatial.distance.pdist)\n",
        "\n",
        "2. La documentación de enlaces [acá](https://docs.scipy.org/doc/scipy/reference/generated/scipy.cluster.hierarchy.linkage.html)"
      ]
    },
    {
      "cell_type": "code",
      "execution_count": 78,
      "metadata": {
        "cell_id": "250e2fa9931d47f1879e8dc992df9239",
        "deepnote_cell_type": "code",
        "deepnote_to_be_reexecuted": false,
        "execution_millis": 6,
        "execution_start": 1678498615518,
        "id": "G9_7vyWUROWn",
        "source_hash": "61d15626"
      },
      "outputs": [],
      "source": [
        "from scipy.cluster.hierarchy import dendrogram ### pintar dendrograma\n",
        "from sklearn.cluster import AgglomerativeClustering ## Calcular Agrupamiento jerarquico\n",
        "import scipy.cluster.hierarchy as sch ## DIstancias"
      ]
    },
    {
      "cell_type": "code",
      "execution_count": 79,
      "metadata": {
        "cell_id": "a91bd089b71e4d12a4f94d9c35b30127",
        "colab": {
          "base_uri": "https://localhost:8080/",
          "height": 595
        },
        "deepnote_cell_type": "code",
        "deepnote_to_be_reexecuted": false,
        "execution_millis": 5884,
        "execution_start": 1678498615522,
        "id": "74pUsNVLSI-k",
        "outputId": "c1cb1917-4979-46f0-ab48-90cd5f365526",
        "source_hash": "eeafc521"
      },
      "outputs": [
        {
          "data": {
            "image/png": "[encoded data removed]",
            "text/plain": [
              "<Figure size 2000x1000 with 1 Axes>"
            ]
          },
          "metadata": {},
          "output_type": "display_data"
        }
      ],
      "source": [
        "base=datos.select_dtypes(np.number)\n",
        "plt.rcParams[\"figure.figsize\"] = (20,10)\n",
        "dendogram=sch.dendrogram(sch.linkage(base, method='ward',metric=\"euclidean\"),labels=datos.index)\n",
        "### Mahalanobis es equivalente a Pearson en R"
      ]
    },
    {
      "cell_type": "markdown",
      "metadata": {
        "cell_id": "83698fb534eb4449b5de82484611d01f",
        "deepnote_cell_type": "markdown",
        "id": "xxaLjoRQq_pH"
      },
      "source": [
        "## Estandarizar los datos\n",
        "\n",
        "Todas las variables tengan las misma importancia"
      ]
    },
    {
      "cell_type": "code",
      "execution_count": 80,
      "metadata": {
        "cell_id": "0d0b187267594652860e37ac050952fd",
        "colab": {
          "base_uri": "https://localhost:8080/"
        },
        "deepnote_cell_type": "code",
        "deepnote_to_be_reexecuted": false,
        "execution_millis": 15,
        "execution_start": 1678498621405,
        "id": "FNM-Ihpzq_Yq",
        "outputId": "7ef95833-112c-4544-aa24-21eac91bd1bc",
        "source_hash": "b7be24e2"
      },
      "outputs": [
        {
          "data": {
            "text/plain": [
              "array([[-0.042342  , -1.12758791, -1.26455761, ..., -0.29721641,\n",
              "         1.93939039, -1.7036228 ],\n",
              "       [ 0.07737623,  0.0048341 , -1.23488177, ..., -1.14150568,\n",
              "        -2.21260103,  0.89162179],\n",
              "       [ 0.0365421 ,  0.53809914, -1.5871723 , ..., -1.12200629,\n",
              "         0.9911316 ,  0.84316915],\n",
              "       ...,\n",
              "       [-0.80009339,  1.5847084 , -1.30716156, ..., -0.72004523,\n",
              "        -0.34775606, -1.84056881],\n",
              "       [-0.78153242,  1.77625475, -1.2137267 , ..., -1.11448022,\n",
              "         1.44606547, -2.06197046],\n",
              "       [-0.51703867,  1.04224913, -0.21738209, ..., -1.20513526,\n",
              "         0.27897773,  0.26476575]])"
            ]
          },
          "execution_count": 80,
          "metadata": {},
          "output_type": "execute_result"
        }
      ],
      "source": [
        "from sklearn.preprocessing import StandardScaler\n",
        "datosescalados=StandardScaler(with_mean=True, with_std=True).fit(base)\n",
        "datosnuevos=datosescalados.transform(base)\n",
        "datosnuevos"
      ]
    },
    {
      "cell_type": "code",
      "execution_count": 81,
      "metadata": {
        "cell_id": "7a398cfa42884ce48d7ffe5433f574cd",
        "colab": {
          "base_uri": "https://localhost:8080/"
        },
        "deepnote_cell_type": "code",
        "deepnote_to_be_reexecuted": false,
        "execution_millis": 4,
        "execution_start": 1678498621417,
        "id": "R-F7Mi4qkIcE",
        "outputId": "1473936c-a7db-4b05-a515-b4e86c2b2eb6",
        "source_hash": "ed40c797"
      },
      "outputs": [
        {
          "data": {
            "text/plain": [
              "numpy.ndarray"
            ]
          },
          "execution_count": 81,
          "metadata": {},
          "output_type": "execute_result"
        }
      ],
      "source": [
        "type(datosnuevos)"
      ]
    },
    {
      "cell_type": "code",
      "execution_count": 82,
      "metadata": {
        "cell_id": "6d5f860ce02148e1882221f7630e57c5",
        "colab": {
          "base_uri": "https://localhost:8080/"
        },
        "deepnote_cell_type": "code",
        "deepnote_to_be_reexecuted": false,
        "execution_millis": 3,
        "execution_start": 1678498621446,
        "id": "LrV2sn5pkNfw",
        "outputId": "7d68ac44-773a-485a-a972-40a0f73d7dc4",
        "source_hash": "2b660171"
      },
      "outputs": [
        {
          "data": {
            "text/plain": [
              "(569, 30)"
            ]
          },
          "execution_count": 82,
          "metadata": {},
          "output_type": "execute_result"
        }
      ],
      "source": [
        "datosnuevos.shape"
      ]
    },
    {
      "cell_type": "code",
      "execution_count": 94,
      "metadata": {},
      "outputs": [
        {
          "data": {
            "text/plain": [
              "1.0"
            ]
          },
          "execution_count": 94,
          "metadata": {},
          "output_type": "execute_result"
        }
      ],
      "source": [
        "datosnuevos[:,3].std()"
      ]
    },
    {
      "cell_type": "code",
      "execution_count": 83,
      "metadata": {
        "cell_id": "c6ec0376a9fc4b71993801adba562e85",
        "colab": {
          "base_uri": "https://localhost:8080/",
          "height": 604
        },
        "deepnote_cell_type": "code",
        "deepnote_to_be_reexecuted": false,
        "execution_millis": 5914,
        "execution_start": 1678498621456,
        "id": "DKCMeGiRsSzk",
        "outputId": "fac4f4ba-7112-4d24-bc1d-9615baf970b9",
        "source_hash": "186e34d1"
      },
      "outputs": [
        {
          "data": {
            "image/png": "[encoded data removed]",
            "text/plain": [
              "<Figure size 2000x1000 with 1 Axes>"
            ]
          },
          "metadata": {},
          "output_type": "display_data"
        }
      ],
      "source": [
        "plt.rcParams[\"figure.figsize\"] = (20,10)\n",
        "dendogram=sch.dendrogram(sch.linkage(datosnuevos, method='ward',metric=\"euclidean\"),labels=datos.index)"
      ]
    },
    {
      "cell_type": "markdown",
      "metadata": {
        "cell_id": "4fb2d635f9ca4c38ba8cc6a1059d008a",
        "deepnote_cell_type": "markdown",
        "id": "5TBnDEvnDu1H"
      },
      "source": [
        "## **Coeficiente aglomerativo**\n",
        "\n",
        "Sea $l_i$ la distancia entre el valor maximo y el valor donde se une un dato al arbol, se define el coeficiente aglomerativo como\n",
        "$$AC_{arbol}=\\frac{1}{dmaxima}\\sum_{i=1}^n l_i$$\n",
        "Se espera que sea cercano a 1 y se elige el arbol con el coeficiente más alto."
      ]
    },
    {
      "cell_type": "code",
      "execution_count": 101,
      "metadata": {
        "cell_id": "a56804ce7e894c4c885cf3616e2bc06e",
        "colab": {
          "base_uri": "https://localhost:8080/"
        },
        "deepnote_cell_type": "code",
        "deepnote_to_be_reexecuted": false,
        "execution_millis": 51,
        "execution_start": 1678498627321,
        "id": "ftIWhrTpESAB",
        "outputId": "adf2acc5-1606-44f7-9f00-ba4e0727d793",
        "source_hash": "3bf9275c"
      },
      "outputs": [
        {
          "data": {
            "text/plain": [
              "0.7455115584812303"
            ]
          },
          "execution_count": 101,
          "metadata": {},
          "output_type": "execute_result"
        }
      ],
      "source": [
        "base=pd.DataFrame(datosnuevos) ## los datos estandarizados\n",
        "enlace=sch.linkage(base, method='complete',metric=\"cityblock\")\n",
        "enlaces=pd.DataFrame(enlace) ## El objeto  sch.linkage\n",
        "a=enlaces[enlaces[0].isin(base.index)]\n",
        "b=enlaces[enlaces[1].isin(base.index) ]\n",
        "sum(max(enlaces[2])-pd.concat([a,b], axis=0)[2])/(max(enlaces[2])*base.shape[0])"
      ]
    },
    {
      "cell_type": "code",
      "execution_count": 102,
      "metadata": {
        "cell_id": "22e1fd6f99bf488cbde5fd3d654c4664",
        "deepnote_cell_type": "code",
        "deepnote_to_be_reexecuted": false,
        "execution_millis": 24,
        "execution_start": 1678498627348,
        "id": "fjM71r7LFyT1",
        "source_hash": "e34ef405"
      },
      "outputs": [],
      "source": [
        "def agnes_coef(bas,metodo,metrica):\n",
        "    '''\n",
        "    Función que permite determinar el coeficiente de aglomeración entre varias métricas y métodos\n",
        "    Datos de entrada:\n",
        "        Obligatorios:\n",
        "            base: se recomienda la base ya normalizada y que solo contenga variables cuantitativas.\n",
        "            método: contiene la lista de métodos que se usara a comparar.\n",
        "            métrica: contiene la lista de las métricas que se usara para comparar\n",
        "    Datos de salida:\n",
        "        devolverá un Dataframe que contendrá el cálculo de cada coeficiente de aglomeración, donde los métodos son\n",
        "        las columnas y las métricas los índices. Dado el caso que el resultado sea -1 es que la combinación entre\n",
        "        métrica y método genera error.\n",
        "    '''\n",
        "    bas=pd.DataFrame(bas)\n",
        "    bas_resul=pd.DataFrame(columns=metrica,index=metodo)\n",
        "    for i in range(len(metodo)):\n",
        "        for j in range(len(metrica)):\n",
        "            try:\n",
        "                enla=sch.linkage(bas, method=metodo[i], metric=metrica[j])\n",
        "                enlas=pd.DataFrame(enla)\n",
        "                a1=enlas[enlas[0].isin(bas.index)]\n",
        "                b1=enlas[enlas[1].isin(bas.index)]\n",
        "                resul=sum(max(enlas[2])-pd.concat([a1,b1],axis=0)[2])/(max(enlas[2])*bas.shape[0])\n",
        "                bas_resul.iloc[i,j]=resul\n",
        "            except ValueError:\n",
        "                bas_resul.iloc[i,j]=-1\n",
        "\n",
        "    return bas_resul"
      ]
    },
    {
      "cell_type": "code",
      "execution_count": 103,
      "metadata": {
        "cell_id": "72f45cf71221467e9ea1739cc5098bf1",
        "colab": {
          "base_uri": "https://localhost:8080/",
          "height": 237
        },
        "deepnote_cell_type": "code",
        "deepnote_to_be_reexecuted": false,
        "execution_millis": 695,
        "execution_start": 1678498627354,
        "id": "uFlGjx0VsXmq",
        "outputId": "52e7542c-3fab-4b16-d54e-d395dd169e16",
        "source_hash": "a91de3e9"
      },
      "outputs": [
        {
          "data": {
            "text/html": [
              "<div>\n",
              "<style scoped>\n",
              "    .dataframe tbody tr th:only-of-type {\n",
              "        vertical-align: middle;\n",
              "    }\n",
              "\n",
              "    .dataframe tbody tr th {\n",
              "        vertical-align: top;\n",
              "    }\n",
              "\n",
              "    .dataframe thead th {\n",
              "        text-align: right;\n",
              "    }\n",
              "</style>\n",
              "<table border=\"1\" class=\"dataframe\">\n",
              "  <thead>\n",
              "    <tr style=\"text-align: right;\">\n",
              "      <th></th>\n",
              "      <th>braycurtis</th>\n",
              "      <th>canberra</th>\n",
              "      <th>chebyshev</th>\n",
              "      <th>cityblock</th>\n",
              "      <th>correlation</th>\n",
              "      <th>cosine</th>\n",
              "      <th>euclidean</th>\n",
              "      <th>jensenshannon</th>\n",
              "      <th>mahalanobis</th>\n",
              "    </tr>\n",
              "  </thead>\n",
              "  <tbody>\n",
              "    <tr>\n",
              "      <th>ward</th>\n",
              "      <td>-1</td>\n",
              "      <td>-1</td>\n",
              "      <td>-1</td>\n",
              "      <td>-1</td>\n",
              "      <td>-1</td>\n",
              "      <td>-1</td>\n",
              "      <td>0.917925</td>\n",
              "      <td>-1</td>\n",
              "      <td>-1</td>\n",
              "    </tr>\n",
              "    <tr>\n",
              "      <th>complete</th>\n",
              "      <td>0.869678</td>\n",
              "      <td>0.626491</td>\n",
              "      <td>0.759495</td>\n",
              "      <td>0.745512</td>\n",
              "      <td>0.818476</td>\n",
              "      <td>0.814035</td>\n",
              "      <td>0.701819</td>\n",
              "      <td>-1</td>\n",
              "      <td>0.656833</td>\n",
              "    </tr>\n",
              "    <tr>\n",
              "      <th>single</th>\n",
              "      <td>0.413863</td>\n",
              "      <td>0.367456</td>\n",
              "      <td>0.476254</td>\n",
              "      <td>0.481109</td>\n",
              "      <td>0.46757</td>\n",
              "      <td>0.460596</td>\n",
              "      <td>0.496512</td>\n",
              "      <td>-1</td>\n",
              "      <td>0.468966</td>\n",
              "    </tr>\n",
              "    <tr>\n",
              "      <th>average</th>\n",
              "      <td>0.677432</td>\n",
              "      <td>0.482413</td>\n",
              "      <td>0.619616</td>\n",
              "      <td>0.633002</td>\n",
              "      <td>0.714911</td>\n",
              "      <td>0.707981</td>\n",
              "      <td>0.582845</td>\n",
              "      <td>-1</td>\n",
              "      <td>0.560422</td>\n",
              "    </tr>\n",
              "    <tr>\n",
              "      <th>centroid</th>\n",
              "      <td>-1</td>\n",
              "      <td>-1</td>\n",
              "      <td>-1</td>\n",
              "      <td>-1</td>\n",
              "      <td>-1</td>\n",
              "      <td>-1</td>\n",
              "      <td>0.557721</td>\n",
              "      <td>-1</td>\n",
              "      <td>-1</td>\n",
              "    </tr>\n",
              "    <tr>\n",
              "      <th>median</th>\n",
              "      <td>-1</td>\n",
              "      <td>-1</td>\n",
              "      <td>-1</td>\n",
              "      <td>-1</td>\n",
              "      <td>-1</td>\n",
              "      <td>-1</td>\n",
              "      <td>0.49461</td>\n",
              "      <td>-1</td>\n",
              "      <td>-1</td>\n",
              "    </tr>\n",
              "  </tbody>\n",
              "</table>\n",
              "</div>"
            ],
            "text/plain": [
              "         braycurtis  canberra chebyshev cityblock correlation    cosine  \\\n",
              "ward             -1        -1        -1        -1          -1        -1   \n",
              "complete   0.869678  0.626491  0.759495  0.745512    0.818476  0.814035   \n",
              "single     0.413863  0.367456  0.476254  0.481109     0.46757  0.460596   \n",
              "average    0.677432  0.482413  0.619616  0.633002    0.714911  0.707981   \n",
              "centroid         -1        -1        -1        -1          -1        -1   \n",
              "median           -1        -1        -1        -1          -1        -1   \n",
              "\n",
              "         euclidean jensenshannon mahalanobis  \n",
              "ward      0.917925            -1          -1  \n",
              "complete  0.701819            -1    0.656833  \n",
              "single    0.496512            -1    0.468966  \n",
              "average   0.582845            -1    0.560422  \n",
              "centroid  0.557721            -1          -1  \n",
              "median     0.49461            -1          -1  "
            ]
          },
          "execution_count": 103,
          "metadata": {},
          "output_type": "execute_result"
        }
      ],
      "source": [
        "agnes_coef(base,[\"ward\",\"complete\",\"single\", \"average\",\"centroid\", \"median\"],\n",
        "           [\"braycurtis\", \"canberra\", \"chebyshev\",\n",
        "          \"cityblock\", \"correlation\", \"cosine\", \"euclidean\", \"jensenshannon\", \"mahalanobis\"])"
      ]
    },
    {
      "cell_type": "code",
      "execution_count": 104,
      "metadata": {
        "cell_id": "ffe0565530d241518cb5d77f0e07ef5f",
        "colab": {
          "base_uri": "https://localhost:8080/"
        },
        "deepnote_cell_type": "code",
        "deepnote_to_be_reexecuted": false,
        "execution_millis": 2,
        "execution_start": 1678498770491,
        "id": "LgixLRbBe0vP",
        "outputId": "01448d4a-42a6-4fde-80c3-3f732dc73356",
        "source_hash": "d20c3864"
      },
      "outputs": [
        {
          "data": {
            "text/plain": [
              "array([0, 0, 0, 0, 0, 0, 0, 0, 1, 1, 1, 0, 0, 0, 0, 0, 0, 0, 0, 1, 1, 2,\n",
              "       0, 0, 0, 0, 0, 0, 1, 0, 0, 0, 0, 0, 0, 0, 0, 1, 0, 1, 1, 1, 0, 0,\n",
              "       1, 0, 2, 0, 1, 1, 1, 1, 1, 0, 1, 1, 0, 0, 1, 2, 0, 2, 0, 1, 0, 0,\n",
              "       2, 1, 0, 1, 0, 2, 0, 0, 1, 0, 0, 0, 0, 1, 1, 0, 0, 0, 1, 0, 0, 0,\n",
              "       1, 0, 1, 0, 1, 1, 0, 0, 1, 2, 1, 0, 1, 2, 1, 2, 1, 0, 1, 1, 0, 1,\n",
              "       2, 0, 1, 1, 2, 1, 2, 0, 0, 1, 1, 0, 0, 0, 1, 1, 1, 0, 0, 0, 1, 0,\n",
              "       0, 1, 0, 1, 1, 1, 0, 0, 2, 0, 1, 1, 0, 1, 0, 0, 0, 1, 1, 2, 2, 1,\n",
              "       1, 1, 0, 1, 1, 1, 1, 0, 0, 1, 0, 1, 1, 0, 0, 1, 1, 1, 0, 1, 1, 2,\n",
              "       2, 0, 1, 1, 1, 0, 1, 1, 1, 1, 1, 1, 1, 1, 0, 1, 2, 0, 0, 1, 0, 1,\n",
              "       0, 1, 1, 0, 0, 0, 0, 1, 2, 0, 1, 0, 0, 1, 0, 0, 0, 0, 0, 1, 0, 0,\n",
              "       1, 0, 1, 0, 1, 1, 1, 0, 1, 0, 0, 1, 1, 0, 2, 1, 0, 0, 0, 0, 0, 1,\n",
              "       0, 1, 0, 1, 1, 0, 1, 1, 0, 0, 0, 0, 0, 1, 0, 0, 0, 0, 0, 1, 0, 1,\n",
              "       1, 0, 1, 1, 1, 1, 1, 1, 0, 2, 1, 0, 1, 1, 1, 1, 0, 0, 0, 0, 1, 1,\n",
              "       0, 1, 1, 1, 1, 1, 1, 1, 1, 1, 1, 1, 1, 1, 0, 1, 0, 1, 1, 1, 1, 2,\n",
              "       1, 1, 1, 0, 1, 0, 2, 1, 0, 0, 0, 1, 1, 0, 1, 0, 1, 1, 1, 1, 0, 0,\n",
              "       0, 1, 1, 1, 1, 0, 1, 0, 1, 0, 0, 2, 1, 0, 1, 0, 0, 0, 1, 1, 1, 0,\n",
              "       0, 0, 1, 1, 1, 1, 2, 2, 1, 1, 1, 1, 1, 0, 0, 1, 0, 0, 0, 1, 0, 0,\n",
              "       1, 1, 0, 1, 1, 0, 0, 1, 1, 1, 1, 0, 1, 1, 1, 0, 1, 2, 0, 0, 1, 1,\n",
              "       0, 1, 1, 1, 0, 1, 1, 1, 1, 1, 1, 1, 0, 1, 1, 1, 2, 0, 1, 1, 2, 0,\n",
              "       1, 1, 1, 0, 1, 0, 2, 1, 1, 1, 1, 1, 0, 1, 0, 0, 1, 0, 1, 1, 0, 1,\n",
              "       1, 0, 0, 1, 1, 1, 0, 1, 1, 0, 1, 0, 1, 1, 1, 1, 1, 1, 1, 2, 0, 0,\n",
              "       1, 1, 1, 0, 1, 2, 0, 0, 2, 1, 1, 1, 1, 1, 0, 1, 1, 0, 1, 1, 1, 1,\n",
              "       0, 0, 1, 0, 1, 1, 1, 1, 0, 1, 1, 1, 0, 1, 0, 0, 0, 0, 1, 0, 2, 2,\n",
              "       1, 1, 0, 0, 1, 1, 0, 1, 1, 1, 1, 0, 1, 1, 2, 0, 1, 1, 2, 2, 1, 1,\n",
              "       0, 1, 1, 1, 1, 0, 1, 0, 0, 1, 2, 2, 1, 0, 1, 1, 1, 1, 1, 1, 2, 1,\n",
              "       1, 1, 1, 2, 1, 1, 1, 2, 0, 0, 0, 1, 0, 0, 0, 0, 0, 0, 2],\n",
              "      dtype=int64)"
            ]
          },
          "execution_count": 104,
          "metadata": {},
          "output_type": "execute_result"
        }
      ],
      "source": [
        "# Ajustando Clustering Jerárquico al conjunto de datos\n",
        "from sklearn.cluster import AgglomerativeClustering\n",
        "hc = AgglomerativeClustering(n_clusters = 3,\n",
        "                    metric = 'euclidean',\n",
        "                    linkage = 'ward')\n",
        "\n",
        "y_hc = hc.fit_predict(datosnuevos)\n",
        "y_hc"
      ]
    },
    {
      "cell_type": "code",
      "execution_count": null,
      "metadata": {
        "cell_id": "87d5007e279b43ec808211260eb2beb0",
        "deepnote_cell_type": "code",
        "deepnote_to_be_reexecuted": false,
        "execution_millis": 3,
        "execution_start": 1678498628086,
        "id": "-KjxSDBrbDLV",
        "source_hash": "b623e53d"
      },
      "outputs": [],
      "source": []
    },
    {
      "cell_type": "markdown",
      "metadata": {
        "created_in_deepnote_cell": true,
        "deepnote_cell_type": "markdown",
        "id": "6l8muJTdW-RQ"
      },
      "source": [
        "<a style='text-decoration:none;line-height:16px;display:flex;color:#5B5B62;padding:10px;justify-content:end;' href='https://deepnote.com?utm_source=created-in-deepnote-cell&projectId=6b01f3fd-002a-43ad-8b2f-83f22b9a4ee6' target=\"_blank\">\n",
        "<img alt='Created in deepnote.com' style='display:inline;max-height:16px;margin:0px;margin-right:7.5px;' src='data:image/svg+xml;base64,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' > </img>\n",
        "Created in <span style='font-weight:600;margin-left:4px;'>Deepnote</span></a>"
      ]
    }
  ],
  "metadata": {
    "colab": {
      "provenance": []
    },
    "deepnote": {},
    "deepnote_execution_queue": [],
    "deepnote_notebook_id": "98626ce440a448ccac98ffb480d891b6",
    "kernelspec": {
      "display_name": "Python 3",
      "name": "python3"
    },
    "language_info": {
      "codemirror_mode": {
        "name": "ipython",
        "version": 3
      },
      "file_extension": ".py",
      "mimetype": "text/x-python",
      "name": "python",
      "nbconvert_exporter": "python",
      "pygments_lexer": "ipython3",
      "version": "3.11.5"
    },
    "widgets": {
      "application/vnd.jupyter.widget-state+json": {
        "20c96a07b3d744a684f922cbe15ced07": {
          "model_module": "@jupyter-widgets/controls",
          "model_module_version": "1.5.0",
          "model_name": "ProgressStyleModel",
          "state": {
            "_model_module": "@jupyter-widgets/controls",
            "_model_module_version": "1.5.0",
            "_model_name": "ProgressStyleModel",
            "_view_count": null,
            "_view_module": "@jupyter-widgets/base",
            "_view_module_version": "1.2.0",
            "_view_name": "StyleView",
            "bar_color": null,
            "description_width": ""
          }
        },
        "3810675b0fdf4153abbf72b9bc88098f": {
          "model_module": "@jupyter-widgets/controls",
          "model_module_version": "1.5.0",
          "model_name": "HTMLModel",
          "state": {
            "_dom_classes": [],
            "_model_module": "@jupyter-widgets/controls",
            "_model_module_version": "1.5.0",
            "_model_name": "HTMLModel",
            "_view_count": null,
            "_view_module": "@jupyter-widgets/controls",
            "_view_module_version": "1.5.0",
            "_view_name": "HTMLView",
            "description": "",
            "description_tooltip": null,
            "layout": "IPY_MODEL_3e64ac78751b4d219578dd6b2054da50",
            "placeholder": "​",
            "style": "IPY_MODEL_dac001f95d82471482cfd05a4faca3bc",
            "value": " [100%]   00:00 -&gt; (00:00 left)"
          }
        },
        "3e64ac78751b4d219578dd6b2054da50": {
          "model_module": "@jupyter-widgets/base",
          "model_module_version": "1.2.0",
          "model_name": "LayoutModel",
          "state": {
            "_model_module": "@jupyter-widgets/base",
            "_model_module_version": "1.2.0",
            "_model_name": "LayoutModel",
            "_view_count": null,
            "_view_module": "@jupyter-widgets/base",
            "_view_module_version": "1.2.0",
            "_view_name": "LayoutView",
            "align_content": null,
            "align_items": null,
            "align_self": null,
            "border": null,
            "bottom": null,
            "display": null,
            "flex": null,
            "flex_flow": null,
            "grid_area": null,
            "grid_auto_columns": null,
            "grid_auto_flow": null,
            "grid_auto_rows": null,
            "grid_column": null,
            "grid_gap": null,
            "grid_row": null,
            "grid_template_areas": null,
            "grid_template_columns": null,
            "grid_template_rows": null,
            "height": null,
            "justify_content": null,
            "justify_items": null,
            "left": null,
            "margin": null,
            "max_height": null,
            "max_width": null,
            "min_height": null,
            "min_width": null,
            "object_fit": null,
            "object_position": null,
            "order": null,
            "overflow": null,
            "overflow_x": null,
            "overflow_y": null,
            "padding": null,
            "right": null,
            "top": null,
            "visibility": null,
            "width": null
          }
        },
        "40b03618bc684aca86a256f0ce3840e4": {
          "model_module": "@jupyter-widgets/base",
          "model_module_version": "1.2.0",
          "model_name": "LayoutModel",
          "state": {
            "_model_module": "@jupyter-widgets/base",
            "_model_module_version": "1.2.0",
            "_model_name": "LayoutModel",
            "_view_count": null,
            "_view_module": "@jupyter-widgets/base",
            "_view_module_version": "1.2.0",
            "_view_name": "LayoutView",
            "align_content": null,
            "align_items": null,
            "align_self": null,
            "border": null,
            "bottom": null,
            "display": null,
            "flex": "2",
            "flex_flow": null,
            "grid_area": null,
            "grid_auto_columns": null,
            "grid_auto_flow": null,
            "grid_auto_rows": null,
            "grid_column": null,
            "grid_gap": null,
            "grid_row": null,
            "grid_template_areas": null,
            "grid_template_columns": null,
            "grid_template_rows": null,
            "height": null,
            "justify_content": null,
            "justify_items": null,
            "left": null,
            "margin": null,
            "max_height": null,
            "max_width": null,
            "min_height": null,
            "min_width": null,
            "object_fit": null,
            "object_position": null,
            "order": null,
            "overflow": null,
            "overflow_x": null,
            "overflow_y": null,
            "padding": null,
            "right": null,
            "top": null,
            "visibility": null,
            "width": null
          }
        },
        "63255102dea24d46bc67498624196abb": {
          "model_module": "@jupyter-widgets/controls",
          "model_module_version": "1.5.0",
          "model_name": "HTMLModel",
          "state": {
            "_dom_classes": [],
            "_model_module": "@jupyter-widgets/controls",
            "_model_module_version": "1.5.0",
            "_model_name": "HTMLModel",
            "_view_count": null,
            "_view_module": "@jupyter-widgets/controls",
            "_view_module_version": "1.5.0",
            "_view_name": "HTMLView",
            "description": "",
            "description_tooltip": null,
            "layout": "IPY_MODEL_8b7e220d0e604541bc05b5f452d9d89c",
            "placeholder": "​",
            "style": "IPY_MODEL_85d68c510e5645fcbf63730f28743e7b",
            "value": "Done! Use &#x27;show&#x27; commands to display/save.   "
          }
        },
        "763422130f7244b9a323757c7df516aa": {
          "model_module": "@jupyter-widgets/controls",
          "model_module_version": "1.5.0",
          "model_name": "FloatProgressModel",
          "state": {
            "_dom_classes": [],
            "_model_module": "@jupyter-widgets/controls",
            "_model_module_version": "1.5.0",
            "_model_name": "FloatProgressModel",
            "_view_count": null,
            "_view_module": "@jupyter-widgets/controls",
            "_view_module_version": "1.5.0",
            "_view_name": "ProgressView",
            "bar_style": "success",
            "description": "",
            "description_tooltip": null,
            "layout": "IPY_MODEL_40b03618bc684aca86a256f0ce3840e4",
            "max": 1,
            "min": 0,
            "orientation": "horizontal",
            "style": "IPY_MODEL_20c96a07b3d744a684f922cbe15ced07",
            "value": 1
          }
        },
        "85d68c510e5645fcbf63730f28743e7b": {
          "model_module": "@jupyter-widgets/controls",
          "model_module_version": "1.5.0",
          "model_name": "DescriptionStyleModel",
          "state": {
            "_model_module": "@jupyter-widgets/controls",
            "_model_module_version": "1.5.0",
            "_model_name": "DescriptionStyleModel",
            "_view_count": null,
            "_view_module": "@jupyter-widgets/base",
            "_view_module_version": "1.2.0",
            "_view_name": "StyleView",
            "description_width": ""
          }
        },
        "8b7e220d0e604541bc05b5f452d9d89c": {
          "model_module": "@jupyter-widgets/base",
          "model_module_version": "1.2.0",
          "model_name": "LayoutModel",
          "state": {
            "_model_module": "@jupyter-widgets/base",
            "_model_module_version": "1.2.0",
            "_model_name": "LayoutModel",
            "_view_count": null,
            "_view_module": "@jupyter-widgets/base",
            "_view_module_version": "1.2.0",
            "_view_name": "LayoutView",
            "align_content": null,
            "align_items": null,
            "align_self": null,
            "border": null,
            "bottom": null,
            "display": null,
            "flex": null,
            "flex_flow": null,
            "grid_area": null,
            "grid_auto_columns": null,
            "grid_auto_flow": null,
            "grid_auto_rows": null,
            "grid_column": null,
            "grid_gap": null,
            "grid_row": null,
            "grid_template_areas": null,
            "grid_template_columns": null,
            "grid_template_rows": null,
            "height": null,
            "justify_content": null,
            "justify_items": null,
            "left": null,
            "margin": null,
            "max_height": null,
            "max_width": null,
            "min_height": null,
            "min_width": null,
            "object_fit": null,
            "object_position": null,
            "order": null,
            "overflow": null,
            "overflow_x": null,
            "overflow_y": null,
            "padding": null,
            "right": null,
            "top": null,
            "visibility": null,
            "width": null
          }
        },
        "90b3fd9e3a0548f1b8e6176c1bed42f7": {
          "model_module": "@jupyter-widgets/base",
          "model_module_version": "1.2.0",
          "model_name": "LayoutModel",
          "state": {
            "_model_module": "@jupyter-widgets/base",
            "_model_module_version": "1.2.0",
            "_model_name": "LayoutModel",
            "_view_count": null,
            "_view_module": "@jupyter-widgets/base",
            "_view_module_version": "1.2.0",
            "_view_name": "LayoutView",
            "align_content": null,
            "align_items": null,
            "align_self": null,
            "border": null,
            "bottom": null,
            "display": "inline-flex",
            "flex": null,
            "flex_flow": "row wrap",
            "grid_area": null,
            "grid_auto_columns": null,
            "grid_auto_flow": null,
            "grid_auto_rows": null,
            "grid_column": null,
            "grid_gap": null,
            "grid_row": null,
            "grid_template_areas": null,
            "grid_template_columns": null,
            "grid_template_rows": null,
            "height": null,
            "justify_content": null,
            "justify_items": null,
            "left": null,
            "margin": null,
            "max_height": null,
            "max_width": null,
            "min_height": null,
            "min_width": null,
            "object_fit": null,
            "object_position": null,
            "order": null,
            "overflow": null,
            "overflow_x": null,
            "overflow_y": null,
            "padding": null,
            "right": null,
            "top": null,
            "visibility": null,
            "width": "100%"
          }
        },
        "d9a7902d245e4138b2f41d261ae0e484": {
          "model_module": "@jupyter-widgets/controls",
          "model_module_version": "1.5.0",
          "model_name": "HBoxModel",
          "state": {
            "_dom_classes": [],
            "_model_module": "@jupyter-widgets/controls",
            "_model_module_version": "1.5.0",
            "_model_name": "HBoxModel",
            "_view_count": null,
            "_view_module": "@jupyter-widgets/controls",
            "_view_module_version": "1.5.0",
            "_view_name": "HBoxView",
            "box_style": "",
            "children": [
              "IPY_MODEL_63255102dea24d46bc67498624196abb",
              "IPY_MODEL_763422130f7244b9a323757c7df516aa",
              "IPY_MODEL_3810675b0fdf4153abbf72b9bc88098f"
            ],
            "layout": "IPY_MODEL_90b3fd9e3a0548f1b8e6176c1bed42f7"
          }
        },
        "dac001f95d82471482cfd05a4faca3bc": {
          "model_module": "@jupyter-widgets/controls",
          "model_module_version": "1.5.0",
          "model_name": "DescriptionStyleModel",
          "state": {
            "_model_module": "@jupyter-widgets/controls",
            "_model_module_version": "1.5.0",
            "_model_name": "DescriptionStyleModel",
            "_view_count": null,
            "_view_module": "@jupyter-widgets/base",
            "_view_module_version": "1.2.0",
            "_view_name": "StyleView",
            "description_width": ""
          }
        }
      }
    }
  },
  "nbformat": 4,
  "nbformat_minor": 0
}
